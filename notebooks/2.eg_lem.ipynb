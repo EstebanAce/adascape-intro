{
 "cells": [
  {
   "cell_type": "markdown",
   "id": "8b1d9224",
   "metadata": {},
   "source": [
    "# 2. An example of a landscape evolution model"
   ]
  },
  {
   "cell_type": "markdown",
   "id": "03ed569e",
   "metadata": {},
   "source": [
    "To create a mountain environment we will use [Fastscape](https://fastscape.readthedocs.io/en/latest/), which is a tool to efficiently solve the basic equation explained before and which contains the minimum set of processes that control the evolution of a landscape ([Braun & Willett, 2003](https://www.sciencedirect.com/science/article/pii/S0169555X12004618?via%3Dihub))."
   ]
  },
  {
   "cell_type": "markdown",
   "id": "8e79affc",
   "metadata": {},
   "source": [
    "## Import libraries"
   ]
  },
  {
   "cell_type": "markdown",
   "id": "5d895cf7",
   "metadata": {},
   "source": [
    "First, we would need to import relevant librarires to produce and analyze the results of a landscape evolution model. Some of these libraries are: [basic model](https://fastscape.readthedocs.io/en/latest/models.html) a model with the simple processes explain before, [xarray-simlab](https://xarray-simlab.readthedocs.io/en/latest/) the main modelling framework on which Fastscape is build, [numpy](https://numpy.org/) is a powerful library with several functions to work with arrays, [matplotlib](https://matplotlib.org/) is a comprehensive library to visualize various type of data, [hvplot](https://hvplot.holoviz.org/) is a library for interactive visualization and exploration of the data and [TopoViz3d](https://github.com/fastscape-lem/ipyfastscape) is a custom made 3D visualization made for Fastscape and similar type of data. We can import these libraries by typing:"
   ]
  },
  {
   "cell_type": "code",
   "execution_count": null,
   "id": "a16532f7",
   "metadata": {},
   "outputs": [],
   "source": [
    "from fastscape.models import basic_model\n",
    "import numpy as np\n",
    "import xsimlab as xs\n",
    "%load_ext xsimlab.ipython\n",
    "import matplotlib.pyplot as plt \n",
    "import hvplot.xarray\n",
    "from ipyfastscape import TopoViz3d"
   ]
  },
  {
   "cell_type": "markdown",
   "id": "1e52f6b2",
   "metadata": {},
   "source": [
    "## Inspect the model"
   ]
  },
  {
   "cell_type": "markdown",
   "id": "ae23bd7b",
   "metadata": {},
   "source": [
    "Models build on xarray-simlab have several useful functionallity to [create/modify](https://xarray-simlab.readthedocs.io/en/latest/create_model.html), [inspect](https://xarray-simlab.readthedocs.io/en/latest/inspect_model.html), [setup and run](https://xarray-simlab.readthedocs.io/en/latest/run_model.html) a model. We will explore some of those options later but it helps to get familiar with the model we are going to work with if we visualize its components by simply typing:\n",
    "```python\n",
    "basic_model\n",
    "```\n",
    "or\n",
    "```python\n",
    "basic_model.visualize()\n",
    "```\n",
    "from the [visualize method](https://xarray-simlab.readthedocs.io/en/latest/_api_generated/xsimlab.Model.visualize.html) we can explore more information, e.g. the input variables:\n",
    "```python\n",
    "basic_model.visualize(show_inputs=True)\n",
    "```"
   ]
  },
  {
   "cell_type": "code",
   "execution_count": null,
   "id": "a880d3e6",
   "metadata": {},
   "outputs": [],
   "source": [
    "basic_model.visualize()"
   ]
  },
  {
   "cell_type": "markdown",
   "id": "40da56d2",
   "metadata": {},
   "source": [
    "## Create a model setup "
   ]
  },
  {
   "cell_type": "markdown",
   "id": "d63624f3",
   "metadata": {},
   "source": [
    "First thing we need to do is to create a setup for our model. Lets start by typing the following command in the window below:\n",
    "```python \n",
    "%create_setup basic_model --default --verbose\n",
    "```"
   ]
  },
  {
   "cell_type": "markdown",
   "id": "4d8ab999",
   "metadata": {},
   "source": [
    "You wil see that we need to specify several parameters. First, lets specify the clocks to use in our simulation. In particular we need to specifiy the actual clock we use to compute the solution also called the **master clock** and another clock to save the output of the model **out clock**. The latter commonly has less elements than the master clock. To create these clocks lets assume we will model the evolution of an orogen for 10 Myr. Then we will create an array that contains 1000 elements from 0 to 10 million using [numpy.linspace](https://numpy.org/doc/stable/reference/generated/numpy.linspace.html) function as:\n",
    "```python \n",
    "the_clock = np.linspace(0, 10e6, 1001) \n",
    "```\n",
    "\n",
    "We then specify both clocks as a [dictionary](https://docs.python.org/3/tutorial/datastructures.html#dictionaries), where the **time clock** is the clock array and the **out clock** is a subsample of 100 elements of the clock array:\n",
    "```python \n",
    "clocks = {'time': the_clock,\n",
    "         'out': the_clock[::10]}\n",
    "```\n",
    "\n",
    "Since we pass two clocks to our setup, we would need to let the program know which of these two clocks is the **master clock**. We do that by adding the following option to our setup:\n",
    "```python\n",
    "master_clock='time',\n",
    "```"
   ]
  },
  {
   "cell_type": "markdown",
   "id": "073faaa8",
   "metadata": {},
   "source": [
    "Second we need to specify the grid dimensions by passing a [list](https://docs.python.org/3/tutorial/introduction.html#lists) with the number of grid nodes for the y and x coordiantes, which we will consider to be 200 by 100 grid nodes and can be specified this way:\n",
    "```python\n",
    "nx=201\n",
    "ny=101\n",
    "input_vars={\n",
    "    'grid__shape': [ny, nx],\n",
    "    ...\n",
    "    }\n",
    "```\n",
    "and these nodes will have a maximum extend of 200 by 100 km, which one can specify as:\n",
    "```python\n",
    "lx=200e3\n",
    "ly=100e3\n",
    "input_vars={\n",
    "    ...\n",
    "    'grid__length': [ly, lx],\n",
    "    ...\n",
    "}\n",
    "```\n",
    "\n",
    "Then we need to specify the [boundary conditions](https://fastscape.readthedocs.io/en/latest/_api_generated/fastscape.processes.BorderBoundary.html#fastscape.processes.BorderBoundary) for the grid nodes in the border.\n",
    "We can do this by passing a list in the order [left, right, top, bottom] and where the border status can be \n",
    "“core” (open boundary), “fixed_value” (closed boundary) and “looped” (periodic boundary). Note tha at least one of \n",
    "the border needs to be “fixed_value”. For our case we will consider:\n",
    "\n",
    "```python\n",
    "input_vars={\n",
    "    ...\n",
    "    'boundary__status': ['looped', 'looped', 'fixed_value', 'fixed_value'],\n",
    "    ...\n",
    "}\n",
    "```"
   ]
  },
  {
   "cell_type": "markdown",
   "id": "ee5fe473",
   "metadata": {},
   "source": [
    "Third, we will need to specify the parameters related to the basic equation governing landscape evolution. Particularly we will assume a constant **uplift rate** of $10^{-3}$ m/yr, a **bedrock incision coefficient** of $10^{-5}$ m/yr and a **hillslope transport coefficient** of $10^{-2}$ as:\n",
    "\n",
    "```python\n",
    "input_vars={\n",
    "    ...\n",
    "    'uplift__rate': 1e-3,\n",
    "    'spl__k_coef': 1e-5,\n",
    "    ...\n",
    "    'diffusion__diffusivity': 1e-2,\n",
    "    ...\n",
    "    }\n",
    "```\n",
    "The other input parameters we will leave with their defaul value."
   ]
  },
  {
   "cell_type": "markdown",
   "id": "da481b54",
   "metadata": {},
   "source": [
    "The last part that we need to specify in the setup is which variables we would like to retrieve. We can do that by passing a dictionary as:\n",
    "```python\n",
    "output_vars={'topography__elevation': 'out'}\n",
    "```"
   ]
  },
  {
   "cell_type": "code",
   "execution_count": null,
   "id": "c2e26994",
   "metadata": {},
   "outputs": [],
   "source": [
    "# %create_setup basic_model --default --verbose\n",
    "the_clock = np.linspace(0, 10e6, 1001) \n",
    "nx=201\n",
    "ny=101\n",
    "lx=200e3\n",
    "ly=100e3\n",
    "\n",
    "ds_in = xs.create_setup(\n",
    "    model=basic_model,\n",
    "    clocks = {'time': the_clock,\n",
    "         'out': the_clock[::10]},\n",
    "    master_clock='time',\n",
    "    input_vars={\n",
    "        # nb. of grid nodes in (y, x)\n",
    "        'grid__shape': [ny, nx],\n",
    "        # total grid length in (y, x)\n",
    "        'grid__length': [ly, lx],\n",
    "        # node status at borders\n",
    "        'boundary__status': ['looped', 'looped', 'fixed_value', 'fixed_value'] ,\n",
    "        # uplift rate\n",
    "        'uplift__rate': 1e-3,\n",
    "        # bedrock channel incision coefficient\n",
    "        'spl__k_coef': 1e-5,\n",
    "        # drainage area exponent\n",
    "        'spl__area_exp': 0.4,\n",
    "        # slope exponent\n",
    "        'spl__slope_exp': 1,\n",
    "        # diffusivity (transport coefficient)\n",
    "        'diffusion__diffusivity': 1e-2,\n",
    "        # random seed\n",
    "        'init_topography__seed': None,\n",
    "    },\n",
    "    output_vars={'topography__elevation': 'out'}\n",
    ")"
   ]
  },
  {
   "cell_type": "markdown",
   "id": "08d5bd46",
   "metadata": {},
   "source": [
    "## Run the model"
   ]
  },
  {
   "cell_type": "markdown",
   "id": "ff8f8b72",
   "metadata": {},
   "source": [
    "To run the model we will use the model setup we just created **ds_in** and use a method from xarray-simlab library called **run** to compute our solution, which will be stored into the versatile data format called [xarray.Dataset](https://docs.xarray.dev/en/stable/generated/xarray.Dataset.html):\n",
    "```python\n",
    "with basic_model, xs.monitoring.ProgressBar():\n",
    "    ds_out = ds_in.xsimlab.run()\n",
    "```\n",
    "For the execution of the model we will use the [with statement](https://docs.python.org/3/reference/compound_stmts.html#the-with-statement). This is a context manager that allows to execute a model with methods that will only be accesible during the computation, e.g. the basic_model and a progress bar to monitor the computation of the model. "
   ]
  },
  {
   "cell_type": "code",
   "execution_count": null,
   "id": "2c97d3f5",
   "metadata": {},
   "outputs": [],
   "source": [
    "with basic_model, xs.monitoring.ProgressBar():\n",
    "    ds_out = ds_in.xsimlab.run()"
   ]
  },
  {
   "cell_type": "markdown",
   "id": "e083a3a1",
   "metadata": {},
   "source": [
    "## Visualize the solution"
   ]
  },
  {
   "cell_type": "markdown",
   "id": "5bd6b087",
   "metadata": {},
   "source": [
    "Now lets explore the results of the model. First we can check what variables are contained in our **ds_out** dataset by typing: "
   ]
  },
  {
   "cell_type": "code",
   "execution_count": null,
   "id": "6ab7a21d",
   "metadata": {},
   "outputs": [],
   "source": [
    "ds_out"
   ]
  },
  {
   "cell_type": "markdown",
   "id": "e4d69421",
   "metadata": {},
   "source": [
    "Now lets plot the output variable **topography__elevation**, which have dimensions (out, y, x). Lets select the topography for the last time step and display it using the build-in [plotting routines](https://docs.xarray.dev/en/stable/user-guide/plotting.html), which are based on the matplotlib library:\n",
    "```python\n",
    "ds_out.topography__elevation.isel(out=-1).plot()\n",
    "```\n",
    "\n",
    "or to look at the maximum or average elevation over time one can do:\n",
    "```python\n",
    "ds_out.topography__elevation.max(('x', 'y')).plot()\n",
    "\n",
    "ds_out.topography__elevation.mean(('x', 'y')).plot()\n",
    "```"
   ]
  },
  {
   "cell_type": "code",
   "execution_count": null,
   "id": "5d9364cf",
   "metadata": {},
   "outputs": [],
   "source": [
    "ds_out.topography__elevation.isel(out=-1).plot()"
   ]
  },
  {
   "cell_type": "markdown",
   "id": "25b1a4ad",
   "metadata": {},
   "source": [
    "Or we can use [hvplot extension](https://tutorial.xarray.dev/intermediate/hvplot.html) to explore the data interactively."
   ]
  },
  {
   "cell_type": "code",
   "execution_count": null,
   "id": "948681e8",
   "metadata": {},
   "outputs": [],
   "source": [
    "ds_out.topography__elevation.hvplot.image(x='x', y='y',\n",
    "                                          clim=(0,4500), cmap='viridis',\n",
    "                                          widget_type=\"scrubber\", widget_location=\"bottom\", \n",
    "                                          groupby='out', height=500, width=700)"
   ]
  },
  {
   "cell_type": "markdown",
   "id": "946f154f",
   "metadata": {},
   "source": [
    "Or we can also use the 3D visualization tools to visualze the results of a simulation "
   ]
  },
  {
   "cell_type": "code",
   "execution_count": null,
   "id": "515c193b",
   "metadata": {},
   "outputs": [],
   "source": [
    "app = TopoViz3d(ds_out, canvas_height=600, time_dim=\"out\")\n",
    "app.show()"
   ]
  }
 ],
 "metadata": {
  "kernelspec": {
   "display_name": "CRC1211-TW2022",
   "language": "python",
   "name": "crc1211-tw2022"
  },
  "language_info": {
   "codemirror_mode": {
    "name": "ipython",
    "version": 3
   },
   "file_extension": ".py",
   "mimetype": "text/x-python",
   "name": "python",
   "nbconvert_exporter": "python",
   "pygments_lexer": "ipython3",
   "version": "3.10.6"
  }
 },
 "nbformat": 4,
 "nbformat_minor": 5
}
