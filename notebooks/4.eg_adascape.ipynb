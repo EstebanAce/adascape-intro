{
 "cells": [
  {
   "cell_type": "markdown",
   "id": "c0cf77b3",
   "metadata": {},
   "source": [
    "# 4. An example of a coupled adaptive speciation and landscape evolution model"
   ]
  },
  {
   "cell_type": "markdown",
   "id": "ff3e5052",
   "metadata": {},
   "source": [
    "We will use [Fastscape](https://fastscape.readthedocs.io/en/latest/)  to create a mountain environment to which organisms can adapt. "
   ]
  },
  {
   "cell_type": "markdown",
   "id": "60b58973-fab8-4fba-8390-77e43cf79e32",
   "metadata": {},
   "source": [
    "## Import libraries"
   ]
  },
  {
   "cell_type": "markdown",
   "id": "5852e35c-8240-40d5-a9b6-56235597133f",
   "metadata": {},
   "source": [
    "We first need to import the libraries and methods as we did before and add: our two main speciation models without (IR12Speciation) and with (DD03Speciation) competition, methods to compute the relationship between the environmental field and a trait (ElevationEnvField, CompoundEnvironment, FastscapeElevationTrait), a method to assign the same random seed to different model components of the model (RandomSeedFederation) and some extra tools to work with the results:"
   ]
  },
  {
   "cell_type": "code",
   "execution_count": null,
   "id": "e612582e",
   "metadata": {},
   "outputs": [],
   "source": [
    "from fastscape.models import basic_model\n",
    "import numpy as np\n",
    "import xsimlab as xs\n",
    "import pandas as pd\n",
    "%load_ext xsimlab.ipython\n",
    "import matplotlib.pyplot as plt\n",
    "from adascape.fastscape_ext import IR12Speciation, DD03Speciation\n",
    "from adascape.fastscape_ext import FastscapeElevationTrait, FastscapePrecipitationTrait\n",
    "from adascape.fastscape_ext import CompoundEnvironment, ElevationEnvField, PrecipitationField\n",
    "from adascape.fastscape_ext import RandomSeedFederation\n",
    "import extra_tools as ext"
   ]
  },
  {
   "cell_type": "markdown",
   "id": "230c3fac-6e33-43eb-87b4-8d5e9d686c48",
   "metadata": {},
   "source": [
    "## Inspect the model"
   ]
  },
  {
   "cell_type": "markdown",
   "id": "cc877edf",
   "metadata": {},
   "source": [
    "Now lets update the basic model from fastscape with our adaptive speciation model without competition and visualize it:\n",
    "```python\n",
    "model_woc = basic_model.update_processes({\n",
    "    'life': IR12Speciation,\n",
    "    'trait_elev':FastscapeElevationTrait,\n",
    "    'life_env': CompoundEnvironment,\n",
    "    'elevation':ElevationEnvField,\n",
    "    'random': RandomSeedFederation\n",
    "})\n",
    "\n",
    "model_woc.visualize()\n",
    "```\n",
    "\n",
    "One can also check each process added to the model, for example:\n",
    "```python\n",
    "model_woc.life\n",
    "```\n"
   ]
  },
  {
   "cell_type": "code",
   "execution_count": null,
   "id": "e39aefad",
   "metadata": {},
   "outputs": [],
   "source": [
    "model_woc = basic_model.update_processes({\n",
    "    'life': IR12Speciation,\n",
    "    'trait_elev':FastscapeElevationTrait,\n",
    "    'life_env': CompoundEnvironment,\n",
    "    'elevation':ElevationEnvField,\n",
    "    'random': RandomSeedFederation\n",
    "})\n",
    "\n",
    "model_woc.visualize()"
   ]
  },
  {
   "cell_type": "code",
   "execution_count": null,
   "id": "eee5b2c3-a54f-486d-8351-fb4d6484864f",
   "metadata": {},
   "outputs": [],
   "source": [
    "model_woc.life"
   ]
  },
  {
   "cell_type": "markdown",
   "id": "ece912b0",
   "metadata": {},
   "source": [
    "## Create a model setup "
   ]
  },
  {
   "cell_type": "markdown",
   "id": "a264e933-1f17-4347-ad3a-1b2a69cf1f8b",
   "metadata": {},
   "source": [
    "Similarly, we will use the create_setup command to build our model \n",
    "```python\n",
    "%create_setup model_woc --default --verbose\n",
    "```\n",
    "We will use the same parametrization as before. We will **initialize a population** of 100 individuals all with the same **initial trait value** of 0.5 (i.e. equal initial min and max trait value). The trait-environment relationship is going to be described by a linear function with a **slope** of 0.95, where the min and maximum elevation can be set to 0 and 4500m. \n",
    "\n",
    "```python\n",
    "input_vars={\n",
    "    ...\n",
    "    'life__init_abundance': 100,\n",
    "    'trait_elev__init_trait_min': 0.5,\n",
    "    'trait_elev__init_trait_max': 0.5,\n",
    "    'trait_elev__lin_slope': 0.95,\n",
    "    'trait_elev__norm_min': 0,\n",
    "    'trait_elev__norm_max': 4500,\n",
    "    ...\n",
    "}\n",
    "```\n",
    "\n",
    "We will set **local carrying capacity** to 25 individuals in a  **neighbourhood radius** of 2e4 m. The **dispersal variability** or $\\mathbf{\\sigma_d}$ will be set to 1000 m. The **mutation probability** to 0.1 with a **mutation variability** or $\\mathbf{\\sigma_m}$ of 0.05 in trait units. Last the **environmental fitness variability** or $\\mathbf{\\sigma_f}$ we will set to 0.3 in trait units  \n",
    "\n",
    "```python\n",
    "input_vars={\n",
    "    ...\n",
    "    'life__nb_radius': 2e4,\n",
    "    'life__car_cap': 25,\n",
    "    'life__sigma_mov': 1000.,\n",
    "    'life__mut_prob': 0.1,\n",
    "    'life__sigma_mut': 0.05,\n",
    "    'life__sigma_env_trait': 0.3,\n",
    "    ...\n",
    "}\n",
    "```\n",
    "Last, we will retrieve the following variables:\n",
    "\n",
    "```python\n",
    "output_vars={'topography__elevation': 'out',\n",
    "             'life__x': 'out',\n",
    "             'life__y': 'out',\n",
    "             'life__traits': 'out',\n",
    "             'life__taxon_id': 'out',\n",
    "             'life__ancestor_id': 'out'}\n",
    "```"
   ]
  },
  {
   "cell_type": "code",
   "execution_count": null,
   "id": "3e07336a",
   "metadata": {},
   "outputs": [],
   "source": [
    "# %create_setup model_woc --default --verbose\n",
    "the_clock = np.linspace(0, 10e6, 1001) \n",
    "nx=201\n",
    "ny=101\n",
    "lx=200e3\n",
    "ly=100e3\n",
    "rand_seed = 12345\n",
    "ini_abun = 100\n",
    "sigma_d = 1000\n",
    "mut_prob = 0.1\n",
    "sigma_m = 0.05\n",
    "sigma_f = 0.3\n",
    "\n",
    "ds_in = xs.create_setup(\n",
    "    model=model_woc,\n",
    "    clocks = {'time': the_clock,\n",
    "         'out': the_clock[::10]},\n",
    "    master_clock='time',\n",
    "    input_vars={\n",
    "        # nb. of grid nodes in (y, x)\n",
    "        'grid__shape': [ny, nx],\n",
    "        # total grid length in (y, x)\n",
    "        'grid__length': [ly, lx],\n",
    "        # node status at borders\n",
    "        'boundary__status': ['looped', 'looped', 'fixed_value', 'fixed_value'],\n",
    "        # uplift rate\n",
    "        'uplift__rate': 1e-3,\n",
    "        # bedrock channel incision coefficient\n",
    "        'spl__k_coef': 1e-5,\n",
    "        # drainage area exponent\n",
    "        'spl__area_exp': 0.4,\n",
    "        # slope exponent\n",
    "        'spl__slope_exp': 1,\n",
    "        # diffusivity (transport coefficient)\n",
    "        'diffusion__diffusivity': 1e-2,\n",
    "        # random seed\n",
    "        'init_topography__seed': None,\n",
    "        # initial number of individuals\n",
    "        'life__init_abundance': ini_abun,\n",
    "        # random number generator seed\n",
    "        'life__random_seed': rand_seed,\n",
    "        # whether to rescale rates\n",
    "        'life__rescale_rates': False,\n",
    "        # distance metric used to construct taxon clusters\n",
    "        'life__distance_metric': 'ward',\n",
    "        # distance threshold used to construct taxon clusters\n",
    "        'life__distance_value': 0.5,\n",
    "        # fixed neighborhood radius\n",
    "        'life__nb_radius': 2e4,\n",
    "        # carrying capacity within a neighborhood\n",
    "        'life__car_cap': 25,\n",
    "        # controls dispersal variability\n",
    "        'life__sigma_mov': sigma_d,\n",
    "        # controls mutation variability\n",
    "        'life__sigma_mut': sigma_m,\n",
    "        # controls strength of abiotic filtering\n",
    "        'life__sigma_env_trait': sigma_f,\n",
    "        # mutation probability\n",
    "        'life__mut_prob': mut_prob,\n",
    "        # min initial trait value\n",
    "        'trait_elev__init_trait_min': 0.5,\n",
    "        # max initial trait value\n",
    "        'trait_elev__init_trait_max': 0.5,\n",
    "        # slope of opt. trait vs. elevation linear relationship\n",
    "        'trait_elev__lin_slope': 0.95,\n",
    "        # min elevation value for normalization\n",
    "        'trait_elev__norm_min': 0,\n",
    "        # max elevation value for normalization\n",
    "        'trait_elev__norm_max': 4500,\n",
    "        # random number generator seed\n",
    "        'random__seed': rand_seed,\n",
    "    },\n",
    "    output_vars={'topography__elevation': 'out',\n",
    "                 'life__x': 'out',\n",
    "                 'life__y': 'out',\n",
    "                 'life__traits': 'out',\n",
    "                 'life__taxon_id': 'out',\n",
    "                 'life__ancestor_id': 'out'}\n",
    ")"
   ]
  },
  {
   "cell_type": "markdown",
   "id": "e66d4438",
   "metadata": {},
   "source": [
    "## Run the model"
   ]
  },
  {
   "cell_type": "code",
   "execution_count": null,
   "id": "3712bd4e",
   "metadata": {},
   "outputs": [],
   "source": [
    "with model_woc, xs.monitoring.ProgressBar():\n",
    "    ds_out_woc = ds_in.xsimlab.run()"
   ]
  },
  {
   "cell_type": "markdown",
   "id": "44b8ea5d-20fb-45c5-a219-f7e81f32c92f",
   "metadata": {},
   "source": [
    "## Visualize the solution of the speciation model without competition"
   ]
  },
  {
   "cell_type": "markdown",
   "id": "e1c68f8f-d931-472f-9db7-f195edf842a4",
   "metadata": {},
   "source": [
    "First lets get the results in a format easier to manipulate like [pandas.DataFrame](https://pandas.pydata.org/pandas-docs/stable/reference/api/pandas.DataFrame.html) using the build-in tool **ext.get_dataframe** provided here"
   ]
  },
  {
   "cell_type": "code",
   "execution_count": null,
   "id": "dea19002-c368-4af4-a84f-3623c48b7c34",
   "metadata": {},
   "outputs": [],
   "source": [
    "dtf_woc=ext.get_dataframe(ds_out_woc) \n",
    "dtf_woc"
   ]
  },
  {
   "cell_type": "markdown",
   "id": "e5d8efa3-be08-4884-bb2b-d3f16e63b905",
   "metadata": {},
   "source": [
    "Then we can plot for some selected time steps the topography and the distribution of taxa by using [pandas.DataFrame.groupby](https://pandas.pydata.org/pandas-docs/stable/user_guide/groupby.html) and [pyplot.scatter](https://matplotlib.org/stable/api/_as_gen/matplotlib.pyplot.scatter.html).\n",
    "\n",
    "Notice that on each time step, each taxon is depicted with a different marker. "
   ]
  },
  {
   "cell_type": "code",
   "execution_count": null,
   "id": "e42582ab-4985-4a47-b100-1dcee4729d11",
   "metadata": {},
   "outputs": [],
   "source": [
    "time_sel = np.arange(0, 11e6, 20e5)\n",
    "mkrs = ['o', 'v', '^', '<', '>', '8', 's', 'p', '*', 'h', 'H', 'D', 'd', 'P', 'X']\n",
    "fig1 = (ds_out_woc\n",
    "      .sel(out=time_sel)\n",
    "      .topography__elevation.plot(col='out', col_wrap=2, figsize=(15, 10))\n",
    "      )\n",
    "\n",
    "for ax1, t in zip(fig1.axes.ravel(), time_sel):\n",
    "    pop = dtf_woc[dtf_woc.out==t].groupby('taxon_id')\n",
    "    max_no_grp = max(list(pop.groups.keys()))\n",
    "    for k,v in pop:\n",
    "        ax1.scatter(v.x, v.y, c='black', marker=mkrs[int(max_no_grp-k)],  s=20, edgecolor='w')"
   ]
  },
  {
   "cell_type": "markdown",
   "id": "063b7126-105c-40c7-a7f4-26eb9fa7404a",
   "metadata": {},
   "source": [
    "The temporal dynamics for the number of individuals and taxon richness can be explored using a combination of [pandas operations](https://pandas.pydata.org/pandas-docs/stable/user_guide/groupby.html#flexible-apply) and basic [pyplot routines](https://matplotlib.org/stable/tutorials/introductory/pyplot.html). The temporal and spatial distribution of the trait is shown with [two-dimensional histograms](https://matplotlib.org/stable/api/_as_gen/matplotlib.pyplot.hist2d.html), where the darker the colour the higher the number of individuals with a trait value at particular time or location along the Y axis."
   ]
  },
  {
   "cell_type": "code",
   "execution_count": null,
   "id": "de61bc97-0977-4eb5-a23e-c1ed019a16c7",
   "metadata": {},
   "outputs": [],
   "source": [
    "fig2, axs2 = plt.subplots(3, 2, sharex=\"col\", figsize=(12, 6))\n",
    "gs2 = axs2[1, 1].get_gridspec()\n",
    "for ax2 in axs2[0:, 1:].flatten():\n",
    "    ax2.remove()\n",
    "ax2big = fig2.add_subplot(gs2[0:, -1])\n",
    "axs2[0,0].plot(dtf_woc.groupby('out').size())\n",
    "axs2[1,0].plot(dtf_woc.groupby(['out']).apply(lambda x: x.taxon_id.unique().size), c='red', alpha=0.75)\n",
    "h,xedge,yedge,_=axs2[2,0].hist2d(x=dtf_woc['out'], y=dtf_woc['trait_elev'], \n",
    "                                 range=((0, 10e6), (0, 1)), \n",
    "                                 bins=(100, 100), cmap='bone_r')\n",
    "h,xedge,yedge,_=ax2big.hist2d(x=dtf_woc['trait_elev'].loc[dtf_woc['out']==max(dtf_woc['out'])], \n",
    "                             y=dtf_woc['y'].loc[dtf_woc['out']==max(dtf_woc['out'])], \n",
    "                                 range=((0, 1), (0, 1e5)), \n",
    "                                 bins=(100, 100), cmap='bone_r')\n",
    "ax2big.yaxis.set_label_position(\"right\")\n",
    "ax2big.yaxis.tick_right()\n",
    "ax2big.set_xlabel('Trait Elevation', weight='bold')\n",
    "ax2big.set_ylabel('Y [m]', weight='bold')\n",
    "axs2[0,0].set_ylabel('Abundance\\n(No. ind)', weight='bold', color='blue')\n",
    "axs2[0,0].set_ylim(0, 600)\n",
    "axs2[1,0].set_ylabel('Taxon richness', weight='bold', color='red')\n",
    "axs2[1,0].set_ylim(0, 10)\n",
    "axs2[2,0].set_ylabel('Trait\\nElevation', weight='bold')\n",
    "axs2[2,0].set_xlabel('Time [years]', weight='bold')\n",
    "fig2.tight_layout()"
   ]
  },
  {
   "cell_type": "markdown",
   "id": "7ec8b406-8125-4fb9-b382-9115b97f816c",
   "metadata": {},
   "source": [
    "## The adaptive speciation model with competition"
   ]
  },
  {
   "cell_type": "markdown",
   "id": "76ecf91e-d67b-4646-b2ea-f592dd20b57a",
   "metadata": {},
   "source": [
    "To run the adaptive speciation model with competition the easiest is to substitute the **'life'** processes from the **model_woc** to use **DD03Speciation**. Then we can set the values for the new parameters as:"
   ]
  },
  {
   "cell_type": "code",
   "execution_count": null,
   "id": "d39da32a-44af-47fa-9528-bf82023d3651",
   "metadata": {},
   "outputs": [],
   "source": [
    "with model_woc.update_processes({'life': DD03Speciation}), xs.monitoring.ProgressBar():\n",
    "    ds_out_wic = ds_in.xsimlab.update_vars(input_vars={'life': {\n",
    "            'init_abundance': ini_abun,\n",
    "            'birth_rate': 1.0,\n",
    "            'movement_rate': 5.,\n",
    "            'car_cap_max': 500.,\n",
    "            'mut_prob': mut_prob,\n",
    "            'sigma_mut': sigma_m,\n",
    "            'sigma_mov': sigma_d,\n",
    "            'sigma_env_trait': sigma_f,\n",
    "            'sigma_comp_trait': 0.8,\n",
    "            'sigma_comp_dist': 0.2,\n",
    "            'random_seed': rand_seed,\n",
    "        }\n",
    "    }   \n",
    "    ).xsimlab.run(check_dims='transpose')"
   ]
  },
  {
   "cell_type": "code",
   "execution_count": null,
   "id": "67847ebe-20f9-472e-878c-d066498b35e8",
   "metadata": {},
   "outputs": [],
   "source": [
    "dtf_wic=ext.get_dataframe(ds_out_wic) \n",
    "dtf_wic"
   ]
  },
  {
   "cell_type": "code",
   "execution_count": null,
   "id": "be6bdf6f-93e9-4546-be17-2c87da7bd52a",
   "metadata": {},
   "outputs": [],
   "source": [
    "fig3 = (ds_out_wic\n",
    "      .sel(out=time_sel)\n",
    "      .topography__elevation.plot(col='out', col_wrap=2, figsize=(15, 10))\n",
    "      )\n",
    "\n",
    "for ax3, t in zip(fig3.axes.ravel(), time_sel):\n",
    "    pop = dtf_wic[dtf_wic.out==t].groupby('taxon_id')\n",
    "    max_no_grp = max(list(pop.groups.keys()))\n",
    "    for k,v in pop:\n",
    "        ax3.scatter(v.x, v.y, c='black', marker=mkrs[int(max_no_grp-k)],  s=20, edgecolor='w')"
   ]
  },
  {
   "cell_type": "code",
   "execution_count": null,
   "id": "bfd01f10-0c6e-40d7-9f39-c8725df11228",
   "metadata": {},
   "outputs": [],
   "source": [
    "fig4, axs4 = plt.subplots(3, 2, sharex=\"col\", figsize=(12, 6))\n",
    "gs4 = axs4[1, 1].get_gridspec()\n",
    "for ax4 in axs4[0:, 1:].flatten():\n",
    "    ax4.remove()\n",
    "ax4big = fig4.add_subplot(gs2[0:, -1])\n",
    "axs4[0,0].plot(dtf_wic.groupby('out').size())\n",
    "axs4[1,0].plot(dtf_wic.groupby(['out']).apply(lambda x: x.taxon_id.unique().size), c='red', alpha=0.75)\n",
    "h,xedge,yedge,_=axs4[2,0].hist2d(x=dtf_wic['out'], y=dtf_wic['trait_elev'], \n",
    "                                 range=((0, 10e6), (0, 1)), \n",
    "                                 bins=(100, 100), cmap='bone_r')\n",
    "h,xedge,yedge,_=ax4big.hist2d(x=dtf_wic['trait_elev'].loc[dtf_wic['out']==max(dtf_wic['out'])], \n",
    "                             y=dtf_wic['y'].loc[dtf_wic['out']==max(dtf_wic['out'])], \n",
    "                                 range=((0, 1), (0, 1e5)), \n",
    "                                 bins=(100, 100), cmap='bone_r')\n",
    "ax4big.yaxis.set_label_position(\"right\")\n",
    "ax4big.yaxis.tick_right()\n",
    "ax4big.set_xlabel('Trait Elevation', weight='bold')\n",
    "ax4big.set_ylabel('Y [m]', weight='bold')\n",
    "axs4[0,0].set_ylabel('Abundance\\n(No. ind)', weight='bold', color='blue')\n",
    "axs4[0,0].set_ylim(0,600)\n",
    "axs4[1,0].set_ylabel('Taxon richness', weight='bold', color='red')\n",
    "axs4[1,0].set_ylim(0, 10)\n",
    "axs4[2,0].set_ylabel('Trait\\nElevation', weight='bold')\n",
    "axs4[2,0].set_xlabel('Time [years]', weight='bold')\n",
    "fig4.tight_layout()"
   ]
  },
  {
   "cell_type": "markdown",
   "id": "9dbe1ab9-070f-4707-ade5-4f307d3d1d8f",
   "metadata": {},
   "source": [
    "Now, lets compare the predicted patterns of biodiversity along an elevational gradient at selected time steps. For this we can calculate the [hypsometric curve](https://en.wikipedia.org/wiki/Hypsometry), which show the proportion of land area at a particular elevation. Then we can compute the number of taxon, or **taxon richness**, at those elevational bins. Later we can fit a non-linear regression to better compare the areas at a given elevation and where the peak of diversity occurs. "
   ]
  },
  {
   "cell_type": "code",
   "execution_count": null,
   "id": "b020fcfa-bbfa-4e98-a4b9-3b350bc0948e",
   "metadata": {},
   "outputs": [],
   "source": [
    "fig5, ax5 = plt.subplots(2, 2,  sharey=\"row\", sharex=\"col\", figsize=(12, 6))\n",
    "H_i = []\n",
    "for t in [1e6, 2e6, 4e6, 10e6]:\n",
    "    for c, exp in enumerate(['woc', 'wic']):\n",
    "        if exp=='woc':\n",
    "            ds_tsel = ds_out_woc.sel(out=t)\n",
    "            ax5[0,c].set_title('Without competition', weight='bold')\n",
    "        elif exp=='wic':\n",
    "            ds_tsel = ds_out_wic.sel(out=t)\n",
    "            ax5[0,c].set_title('With competition', weight='bold')\n",
    "\n",
    "        counts, bins = np.histogram(ds_tsel.topography__elevation, np.arange(0, 4501, 250))\n",
    "        bins_mean_ele = (bins[:-1] + bins[1:])/2.0\n",
    "    \n",
    "        ax5[0,c].plot(bins_mean_ele, counts.cumsum()/counts.cumsum().max())\n",
    "        \n",
    "        H_i = np.append(H_i, ((ds_tsel.topography__elevation.mean() - ds_tsel.topography__elevation.min()) / \n",
    "               (ds_tsel.topography__elevation.max() - ds_tsel.topography__elevation.min()) )\n",
    "                        )\n",
    "              \n",
    "        elevation_i = (ds_tsel.topography__elevation.sel(x=ds_tsel.life__x.dropna('ind'), y=ds_tsel.life__y.dropna('ind'), method='nearest') )\n",
    "        dtf_ele_i = (pd.DataFrame({'elevation_i':elevation_i, 'taxon_id':ds_tsel.life__taxon_id.dropna('ind'), 'ele_groups':pd.cut(elevation_i, bins=bins)} ))\n",
    "        ax5[1,c].scatter(bins_mean_ele, dtf_ele_i.groupby('ele_groups').nunique().taxon_id, clip_on='False')\n",
    "        \n",
    "        fit = ext.fit_nlsq(bins_mean_ele, dtf_ele_i.groupby('ele_groups').nunique().taxon_id.values, 0, 4500, 'elevation')\n",
    "        ax5[1,c].plot(fit.elevation, fit.taxon_richness)\n",
    "        \n",
    "ax5[0,c].vlines(x=H_i, ymin=0, ymax=1.2, linestyles='dashed')\n",
    "ax5[0,0].set_xlim(0, 4500)\n",
    "ax5[0,1].set_xlim(0, 4500)\n",
    "ax5[0,0].set_ylim(0, 1.2)\n",
    "ax5[1,0].set_ylim(0, 10)\n",
    "ax5[0,1].legend(['1', '2', '4', '10'], loc='lower right', title='Time [Myr]')\n",
    "ax5[0,0].set_ylabel('Cumulative\\nheight frequency', weight='bold')\n",
    "ax5[1,0].set_ylabel('Taxon Richness', weight='bold')\n",
    "ax5[1,0].set_xlabel('Elevation [m]', weight='bold')\n",
    "ax5[1,1].set_xlabel('Elevation [m]', weight='bold')\n",
    "fig5.tight_layout()\n",
    "        "
   ]
  },
  {
   "cell_type": "code",
   "execution_count": null,
   "id": "4af39c38-25c4-4f40-a882-1fb6c2c09475",
   "metadata": {},
   "outputs": [],
   "source": []
  }
 ],
 "metadata": {
  "kernelspec": {
   "display_name": "CRC1211-TW2022",
   "language": "python",
   "name": "crc1211-tw2022"
  },
  "language_info": {
   "codemirror_mode": {
    "name": "ipython",
    "version": 3
   },
   "file_extension": ".py",
   "mimetype": "text/x-python",
   "name": "python",
   "nbconvert_exporter": "python",
   "pygments_lexer": "ipython3",
   "version": "3.10.6"
  }
 },
 "nbformat": 4,
 "nbformat_minor": 5
}
