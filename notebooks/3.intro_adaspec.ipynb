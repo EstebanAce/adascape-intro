{
 "cells": [
  {
   "cell_type": "markdown",
   "id": "97ab1794",
   "metadata": {},
   "source": [
    "# 3. A primer on adaptive speciation"
   ]
  },
  {
   "cell_type": "markdown",
   "id": "ed6bc79b",
   "metadata": {},
   "source": [
    "Adascape is a python package with routines to predict the ecological and evolutionary dynamics of individuals as their environment changes at larger (hundreds to thousands of kilometres) and longer (thousand to millions of years) scales. The adaptive speciation models presented here build on the *adaptive dynamics* theoretical framework ([Dieckmann et al. 2007](https://link.springer.com/chapter/10.1007/978-3-540-34428-5_8); [Brännström et al. 2012](https://www.evolutionary-ecology.com/abstracts/v14/2747.html); [McGill & Brown 2012](https://www.annualreviews.org/doi/10.1146/annurev.ecolsys.36.091704.175517)), which focus on the evolution of a trait (or various traits) and is affected by processes of **environmental selection, mutation, dispersal, and ecological interactions**."
   ]
  },
  {
   "cell_type": "markdown",
   "id": "d2a0a17b",
   "metadata": {},
   "source": [
    "The first of these evolutionary processes is **environmental selection**, which describes the environmental fitness $f_i$ of an individual $i$ with a trait value $u$ for $k$ number of traits as a product of gaussian functions:"
   ]
  },
  {
   "cell_type": "markdown",
   "id": "b3b0b59e",
   "metadata": {},
   "source": [
    "$f_i = \\prod_k e^{-\\frac{(u_{i,k}-{u_{0,k}(z_i)})^2} {2\\boldsymbol{\\sigma_f}^2}}$,"
   ]
  },
  {
   "cell_type": "markdown",
   "id": "5aee2e86",
   "metadata": {},
   "source": [
    "<img src=\"./schematic_fitness.png\" alt=\"Enviromental_fitness\" width=\"600\"/>"
   ]
  },
  {
   "cell_type": "markdown",
   "id": "55e40ab1",
   "metadata": {},
   "source": [
    "where $u_{0,k}$ is the optimal trait value for a given local environmental condition $z_i$ and **$\\mathbf{\\sigma_f}$ is the environmental fitness variability** that determines the strength of the selection pressure. We define the optimal trait value as a linear relationship between the optimal trait and an environmental gradient as:"
   ]
  },
  {
   "cell_type": "markdown",
   "id": "f45de829",
   "metadata": {},
   "source": [
    "$u_{0,k}(z_i)  = \\alpha_{z} \\cdot (Z_i(z_i) -1/2) + 1/2$,"
   ]
  },
  {
   "cell_type": "markdown",
   "id": "f5cca62c",
   "metadata": {},
   "source": [
    "where $\\alpha_z$ is the slope of the linear regression and $Z_i$ is the normalized environmental conditions experience by individual $i$. Here we normalized the environmental field from the maximum $z_{max}$ and minimum $z_{min}$ ranges that this field can reach during a simulation and is expressed as: "
   ]
  },
  {
   "cell_type": "markdown",
   "id": "9935e0cf",
   "metadata": {},
   "source": [
    "$Z_i(z_i)  = \\frac{z_i - z_{min}}{z_{max} - z_{min}}$."
   ]
  },
  {
   "cell_type": "markdown",
   "id": "c0c1cc15",
   "metadata": {},
   "source": [
    "<img src=\"./schematic_env_filter.png\" alt=\"Enviromental_filter\" width=\"400\"/>"
   ]
  },
  {
   "cell_type": "markdown",
   "id": "cee5e777",
   "metadata": {},
   "source": [
    "The second evolutionary process is **mutation**, which is described for each individual as a random process. For this we take a random number drawn from a uniform distribution $\\mathcal{U}(0,1)$ and compare it with a mutation probability $m$, if the drawn number is less than $m$ then the descendent of the individual $i$ can mutate to a trait value taken from a gaussian distribution $\\mathcal{N}(u_i, \\sigma_m)$ centred at the ancestor trait value $u_i$ and with a **mutation variability $\\mathbf{\\sigma_m}$**."
   ]
  },
  {
   "cell_type": "markdown",
   "id": "ef3e6d4a",
   "metadata": {},
   "source": [
    "<img src=\"./schematic_mutation.png\" alt=\"Mutation\" width=\"600\"/>"
   ]
  },
  {
   "cell_type": "markdown",
   "id": "fe841424",
   "metadata": {},
   "source": [
    "The third evolutionary process we consider is **dispersal**, where the new location of an individual $i$ is drawn from a $\\mathcal{N}(l_i, \\sigma_d)$ centred at the individual's location $l_i$ given by their $x$ and $y$ coordinates. In the next time step the individual will then move to a new location determined by **dispersal variability** $\\mathbf{\\sigma_d}$ "
   ]
  },
  {
   "cell_type": "markdown",
   "id": "5a95ba92",
   "metadata": {},
   "source": [
    "<img src=\"./schematic_dispersal.png\" alt=\"Dispersal\" width=\"800\"/>"
   ]
  },
  {
   "cell_type": "markdown",
   "id": "5d48071f",
   "metadata": {},
   "source": [
    "The ecological interaction we consider in adascape is via the presence or absence of a trait-mediated competition, $n_{i,j}$. This process is defined as a product of two gaussian functions centred respectively at the trait $\\Delta_u$ and location $\\Delta_l$ pairwise distance between individual $i$ and all other individuals $j$:"
   ]
  },
  {
   "cell_type": "markdown",
   "id": "1bdfdf8f",
   "metadata": {},
   "source": [
    "$n_{i,j} = \\sum_j{e^{-\\frac{(\\Delta_{u} )^2} {2\\boldsymbol{\\sigma_{u}}^2}} \\cdot e^{-\\frac{(\\Delta_{l})^2} {2\\boldsymbol{\\sigma_{l}}^2}}}$, "
   ]
  },
  {
   "cell_type": "markdown",
   "id": "659aea2f",
   "metadata": {},
   "source": [
    "where $\\mathbf{\\sigma_u}$ and $\\mathbf{\\sigma_l}$ are, respectively, **trait-distance variability** and the **location distance variability**. In other words, this trait-mediated competition describes the strength of the competition among individuals, which is higher as the trait values are more similar and/or the individuals are in closer proximity to each other. Conversely, the competition strength is lower when the individual trait values are more dissimilar and/or are more distant from each other."
   ]
  },
  {
   "cell_type": "markdown",
   "id": "1eb07f1b",
   "metadata": {},
   "source": [
    "<img src=\"./schematic_comp.png\" alt=\"Competition\" width=\"400\"/>"
   ]
  },
  {
   "cell_type": "markdown",
   "id": "1e00e748",
   "metadata": {},
   "source": [
    "The temporal dynamics for the speciation model without competition ([Irwin, 2012](https://www.journals.uchicago.edu/doi/10.1086/666002)) and with competition ([Doebeli \\& Dieckmann, 2003](https://www.nature.com/articles/nature01274)) are shown over a schematic depicting the generalities of the adaptive speciation models along an elevation and a rainfall gradient and where the grey arrows illustrate dispersal and the red arrows competition strength."
   ]
  },
  {
   "cell_type": "markdown",
   "id": "1359f69f",
   "metadata": {},
   "source": [
    "<img src=\"./schematic_top.png\" alt=\"Enviromental_top\" width=\"1100\"/>"
   ]
  },
  {
   "cell_type": "markdown",
   "id": "f2890784",
   "metadata": {},
   "source": [
    "$K_l$ is the **local carry capacity** and $\\mathbf{n_l}$ is the number of individuals in the local neighbourhood centred at each individual with an extend defined by **radius** $\\mathbf{nb_r}$. $\\mathbf{K_0}$ is the **maximum carrying capacity** for the whole model domain and $N$ is the total number of individuals.  "
   ]
  },
  {
   "cell_type": "markdown",
   "id": "3b9a7c30-aa91-4c81-af64-ec1c1cd16fec",
   "metadata": {},
   "source": [
    "## Taxon definition"
   ]
  },
  {
   "cell_type": "markdown",
   "id": "40d9c47a-7755-423f-bd4a-684ef6010bd8",
   "metadata": {},
   "source": [
    "We define a taxon as a group of individuals sharing similar trait values and with common ancestry (sensu [Pontarp & Wiens](https://onlinelibrary.wiley.com/doi/abs/10.1111/jbi.12896)). We have implemented this definition using [hierarchical clustering](https://docs.scipy.org/doc/scipy/reference/generated/scipy.cluster.hierarchy.fclusterdata.html) at each time step and assigning a **taxon id** number to each individual, this depicted below for two trais where color is the different **taxon id**:"
   ]
  },
  {
   "cell_type": "markdown",
   "id": "8e71bb9a-3bcf-4d3e-93a2-65a707ea3d43",
   "metadata": {},
   "source": [
    "<img src=\"./taxon_def.png\" alt=\"Taxon_definition\" width=\"800\"/>"
   ]
  },
  {
   "cell_type": "code",
   "execution_count": null,
   "id": "fba6ae97-475c-4a79-a406-f4cb0a9a1a94",
   "metadata": {},
   "outputs": [],
   "source": []
  }
 ],
 "metadata": {
  "kernelspec": {
   "display_name": "CRC1211-TW2022",
   "language": "python",
   "name": "crc1211-tw2022"
  },
  "language_info": {
   "codemirror_mode": {
    "name": "ipython",
    "version": 3
   },
   "file_extension": ".py",
   "mimetype": "text/x-python",
   "name": "python",
   "nbconvert_exporter": "python",
   "pygments_lexer": "ipython3",
   "version": "3.10.6"
  }
 },
 "nbformat": 4,
 "nbformat_minor": 5
}
