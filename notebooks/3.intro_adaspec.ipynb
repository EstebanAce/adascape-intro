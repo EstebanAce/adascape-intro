{
 "cells": [
  {
   "cell_type": "markdown",
   "id": "97ab1794",
   "metadata": {},
   "source": [
    "# 3. A primer on adaptive speciation"
   ]
  },
  {
   "cell_type": "markdown",
   "id": "ed6bc79b",
   "metadata": {},
   "source": [
    "*AdaScape* is a python package with routines to predict the ecological and evolutionary dynamics of individuals as their environment changes at larger (hundreds to thousands of kilometres) and longer (thousand to millions of years) scales. The adaptive speciation model presented here build on the *adaptive dynamics* theoretical framework ([Dieckmann et al. 2007](https://link.springer.com/chapter/10.1007/978-3-540-34428-5_8); [Brännström et al. 2012](https://www.evolutionary-ecology.com/abstracts/v14/2747.html); [McGill & Brown 2012](https://www.annualreviews.org/doi/10.1146/annurev.ecolsys.36.091704.175517)), which focus on the evolution of a trait (or various traits) and is affected by processes of **environmental selection, mutation, dispersal, and ecological interactions**. In particular, we have modified the simple speciation model proposed by [Irwin 2012](https://www.journals.uchicago.edu/doi/10.1086/666002) to consider a) more than trait, b)competion for a limiting resrouce, and c) a trait definition that allow us to reconstruct phylogenetic trees. "
   ]
  },
  {
   "cell_type": "markdown",
   "id": "d2a0a17b",
   "metadata": {},
   "source": [
    "The first of these evolutionary processes is **environmental selection**, which describes the environmental fitness $f_i$ of an individual $i$ with a vector of trait values $\\mathbf{u}_{i} = (u_{i, 1}, u_{i, 2}, \\ldots, u_{i, k})^{\\intercal}$. The environmental fitness is given by a multivariate Gausian function as:"
   ]
  },
  {
   "cell_type": "markdown",
   "id": "b3b0b59e",
   "metadata": {},
   "source": [
    "$f_i (\\mathbf{u}_{i}) = \\exp{\\left(-\\dfrac{1} {2}  \\left(\\mathbf{u}_{i} - \\mathbf{u}_{0}(z_i)\\right)^\\intercal \\cdot \\mathbf{\\Sigma}^{-1} \\cdot \\left(\\mathbf{u}_{i}- \\mathbf{u}_{0}(z_i)\\right) \\right)}$,"
   ]
  },
  {
   "cell_type": "markdown",
   "id": "5aee2e86",
   "metadata": {},
   "source": [
    "<img src=\"./schematic_fitness_multinorm.png\" alt=\"Enviromental_fitness\" width=\"300\"/>"
   ]
  },
  {
   "cell_type": "markdown",
   "id": "55e40ab1",
   "metadata": {},
   "source": [
    "where $u_{0}(z_i)$ is the optimal trait value vector for a given local environmental condition $z_i$ and $\\mathbf{\\Sigma}$ is the $k \\times k$ matrix of parameters driving the fitness changes. The diagonal of $\\mathbf{\\Sigma}$ is given by the parameter **$\\mathbf{\\sigma_f}$ is the environmental fitness variability** that determines the strength of the selection of an individual's trait value against its optimum. We define the optimal trait value as a linear relationship between the optimal trait and an environmental gradient as:"
   ]
  },
  {
   "cell_type": "markdown",
   "id": "f45de829",
   "metadata": {},
   "source": [
    "$u_{0, q}(z_i) = \\alpha_{z} \\cdot \\left(Z_i(z_i) - \\dfrac{1}{2}\\right) + \\dfrac{1}{2}, \\, \\forall\\, q = 1, \\ldots, k$,"
   ]
  },
  {
   "cell_type": "markdown",
   "id": "f5cca62c",
   "metadata": {},
   "source": [
    "where $\\alpha_z$ is the slope of the linear regression and $Z_i$ is the normalized environmental conditions experience by individual $i$. Here we normalized the environmental field from the maximum $z_{max}$ and minimum $z_{min}$ ranges that this field can reach during a simulation and is expressed as: "
   ]
  },
  {
   "cell_type": "markdown",
   "id": "9935e0cf",
   "metadata": {},
   "source": [
    "$Z_i(z_i)  = \\frac{z_i - z_{min}}{z_{max} - z_{min}}$."
   ]
  },
  {
   "cell_type": "markdown",
   "id": "c0c1cc15",
   "metadata": {},
   "source": [
    "<img src=\"./schematic_env_filter.png\" alt=\"Enviromental_filter\" width=\"300\"/>"
   ]
  },
  {
   "cell_type": "markdown",
   "id": "cee5e777",
   "metadata": {},
   "source": [
    "The second evolutionary process is **mutation**, which is described for each individual as a random process. For this we take a random number drawn from a uniform distribution $\\mathcal{U}(0,1)$ and compare it with a mutation probability $p_m$, if the drawn number is less than $p_m$ then the descendent of the individual $i$ can mutate to a trait value taken from a gaussian distribution $\\mathcal{N}(u_{i, q}, \\sigma_m)$ centred at the ancestor trait value $u_{i,q}$ and with a **mutation variability $\\mathbf{\\sigma_m}$**."
   ]
  },
  {
   "cell_type": "markdown",
   "id": "ef3e6d4a",
   "metadata": {},
   "source": [
    "<img src=\"./schematic_mutation.png\" alt=\"Mutation\" width=\"400\"/>"
   ]
  },
  {
   "cell_type": "markdown",
   "id": "fe841424",
   "metadata": {},
   "source": [
    "The third evolutionary process we consider is **dispersal**, where the new location of an individual $i$ is randomly sampled around the position of each individual $l_{i, x}$ and $l_{i, y}$, along the X and Y axes using separated Gaussian distribution $\\mathcal{N}(l_{i,\\bullet}, \\sigma_d)$, where $\\bullet$ is a place holder for x or y. In the next time step the individual will then move to a new location, where the amount of spatial displacement is determined by the parameter **dispersal variability** $\\mathbf{\\sigma_d}$ "
   ]
  },
  {
   "cell_type": "markdown",
   "id": "5a95ba92",
   "metadata": {},
   "source": [
    "<img src=\"./schematic_dispersal.png\" alt=\"Dispersal\" width=\"800\"/>"
   ]
  },
  {
   "cell_type": "markdown",
   "id": "5d48071f",
   "metadata": {},
   "source": [
    "The ecological interaction we consider in *AdaScape* is via the trait-mediated competition for a single a resource in the local neighbourhood $D_{i, r}$ centred at individual $i$ and with radius $r$:"
   ]
  },
  {
   "cell_type": "markdown",
   "id": "1bdfdf8f",
   "metadata": {},
   "source": [
    "$n_{eff, i} = \\sum_{j \\in D_{i,r} }{\\exp{\\left( -\\frac{\\Delta_{u}^2(i,j)} {2\\sigma_{u}^2} \\right)} }$, "
   ]
  },
  {
   "cell_type": "markdown",
   "id": "659aea2f",
   "metadata": {},
   "source": [
    "\\noindent where $\\Delta_{u}(i,j)$ is the trait distance between individual $i$ and its neighbour $j$, and $\\sigma_u$ is **trait-distance variability**. The local neighbourhood is the area around each individual centred at its location $l_{i, \\bullet}$ and with an extend determined by $r$, and can be thought of as the area where local competition for resources take place. The parameter, $\\sigma_u$, dictates the strength of the competition among individuals with similar trait values. Hence if $\\sigma_u \\geq 1$, all individuals in the local neighbourhood regardless of their trait values are assumed to compete for the same resource. However, if $\\sigma_u <1$ only those individuals with similar trait values to the focus individual $i$ are counted and thus assumed to compete for the same resource."
   ]
  },
  {
   "cell_type": "markdown",
   "id": "1eb07f1b",
   "metadata": {},
   "source": [
    "<img src=\"./schematic_comp.png\" alt=\"Competition\" width=\"300\"/>"
   ]
  },
  {
   "cell_type": "markdown",
   "id": "1e00e748",
   "metadata": {},
   "source": [
    "The temporal dynamics for the speciation model without competition ($\\sigma_u =2$)  and with competition ($\\sigma_u =0.2$) are shown over a schematic depicting the generalities of the adaptive speciation models along an elevation and a rainfall gradient and where the grey arrows illustrate dispersal and the red arrows competition strength."
   ]
  },
  {
   "cell_type": "markdown",
   "id": "1359f69f",
   "metadata": {},
   "source": [
    "<img src=\"./schematic_top.png\" alt=\"Enviromental_top\" width=\"1100\"/>"
   ]
  },
  {
   "cell_type": "markdown",
   "id": "f2890784",
   "metadata": {},
   "source": [
    "The model is implemented as an individual-based, spatially-explicit model. A simulation is initialised with a given number of individuals allocated randomly or at a particular range in a continuous 2D space. The traits for each individual are drawn from a uniform distribution, where the minimum and maximum range is between 0 and 1. After initialisation, the fitness for each individual is evaluated following equation above. Then we compute the number of offspring $n_{off, i}$ for each individual $i$ following [Irwin (2012)](https://www.journals.uchicago.edu/doi/10.1086/666002):"
   ]
  },
  {
   "cell_type": "markdown",
   "id": "186c2046-1336-4a0d-ad95-3c94018c8be4",
   "metadata": {
    "tags": []
   },
   "source": [
    "$n_{off, i} = \\frac{K}{n_{eff,i}}  f_i,$"
   ]
  },
  {
   "cell_type": "markdown",
   "id": "299d60b6-e9fd-4df5-9666-3395d9ccbcaa",
   "metadata": {},
   "source": [
    "where $K$ is the carrying capacity and thus $\\frac{K}{n_{eff,i}}$ represents the density dependent reproductive factor. After the number of offspring has been determined, the new individuals are generated, mutated, and dispersed as explained above. "
   ]
  },
  {
   "cell_type": "markdown",
   "id": "3b9a7c30-aa91-4c81-af64-ec1c1cd16fec",
   "metadata": {},
   "source": [
    "## Taxon definition"
   ]
  },
  {
   "cell_type": "markdown",
   "id": "40d9c47a-7755-423f-bd4a-684ef6010bd8",
   "metadata": {},
   "source": [
    "We define a taxon as a group of individuals sharing similar trait values and common ancestry (sensu [Pontarp & Wiens](https://onlinelibrary.wiley.com/doi/abs/10.1111/jbi.12896)). We implement this by using a spectral clustering algorithm [Luxburg2007](), which examines individuals per ancestor group and assigns them to new taxon groups based on the clustering of their trait values at each time step. To each of these clusters we assigned a new taxon-id $\\in \\mathbb{N}= \\{0,1,2,3, \\ldots, \\infty\\}$, this taxon-id at time $t$ will become the ancestor-id at time $t+1$:"
   ]
  },
  {
   "cell_type": "markdown",
   "id": "8e71bb9a-3bcf-4d3e-93a2-65a707ea3d43",
   "metadata": {},
   "source": [
    "<img src=\"./taxon_def.png\" alt=\"Taxon_definition\" width=\"700\"/>"
   ]
  },
  {
   "cell_type": "markdown",
   "id": "b41d29c8-fa3e-49e9-8e67-5c7a019f3b11",
   "metadata": {},
   "source": [
    "More information and examples of AdaScape please refer to our manuscript [GMD](https://gmd.copernicus.org/preprints/gmd-2023-72/) or in our repository in [GitHub](https://github.com/fastscape-lem/adascape)."
   ]
  },
  {
   "cell_type": "code",
   "execution_count": null,
   "id": "7aaa44d6-ce18-43a4-a3f5-ef46fe1c26aa",
   "metadata": {},
   "outputs": [],
   "source": []
  }
 ],
 "metadata": {
  "kernelspec": {
   "display_name": "CRC1211-TW2022",
   "language": "python",
   "name": "crc1211-tw2022"
  },
  "language_info": {
   "codemirror_mode": {
    "name": "ipython",
    "version": 3
   },
   "file_extension": ".py",
   "mimetype": "text/x-python",
   "name": "python",
   "nbconvert_exporter": "python",
   "pygments_lexer": "ipython3",
   "version": "3.10.6"
  }
 },
 "nbformat": 4,
 "nbformat_minor": 5
}
