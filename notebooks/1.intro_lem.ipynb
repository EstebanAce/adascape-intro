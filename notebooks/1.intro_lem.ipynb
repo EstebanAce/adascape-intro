{
 "cells": [
  {
   "cell_type": "markdown",
   "id": "72c853f2",
   "metadata": {},
   "source": [
    "# 1. A primer on landscape evolution modelling"
   ]
  },
  {
   "cell_type": "markdown",
   "id": "951a1a24",
   "metadata": {},
   "source": [
    "The evolution of a landscape, for example, a mountain range, is influenced by tectonic, surface, and climatic processes. Here for the sake of simplicity we will describe the rate of change in mountain height $h$ (in $m$) as a mass conservation phenomena, where gains and losses of material, or more specifically rates of **uplift** $\\mathbf{U}$ and **erosion** $E$ of bedrock ([Whipple 2004](https://www.annualreviews.org/doi/abs/10.1146/annurev.earth.32.101802.120356); [Tucker & Hancock, 2010](https://onlinelibrary.wiley.com/doi/10.1002/esp.1952)), dictate the height of a mountain range:\n",
    "\n",
    "$\\frac{dh}{dt}=U-E$\n"
   ]
  },
  {
   "cell_type": "markdown",
   "id": "384554bb-da03-4f7a-bd38-0007589eaac8",
   "metadata": {},
   "source": [
    "<img src=\"./schematic_hequalUplusE.png\" alt=\"Uplift-Erosion\" width=\"800\"/>"
   ]
  },
  {
   "cell_type": "markdown",
   "id": "be7b0722",
   "metadata": {},
   "source": [
    "When we study the changes in topography in this way is simpler to assume that the uplift of bedrock occurs uniformly in an area and at a constant rate in $m/yr$. Then we can focus on the effect that surface processes such as fluvial and hillslope processes have on the topography of a mountain. Particularly we will explore the effects that fluvial processes such as river incision $I$ and hillslope processes $H$ have on the height of a given mountain area. \n",
    "\n",
    "$\\frac{dh}{dt}=U-I+H$\n"
   ]
  },
  {
   "cell_type": "markdown",
   "id": "e32af972",
   "metadata": {},
   "source": [
    "River incision, also known as [stream power law](https://onlinelibrary.wiley.com/doi/abs/10.1002/esp.3462), in simpler terms describes how a flow of water \"cuts\" through bedrock in a process that can be characterised by the product of **a constant of erodability** $\\mathbf{k_f}$, the drainage area $A$ (in $m^2$) and the slope of the terrain $S$ (in $m/m$), where the two latter expressions are power functions with exponents, respectively, $\\mathbf{m}$ and $\\mathbf{n}$. We know these exponents take values of $m \\in [0.3, 0.8]$ and $n \\in [1, 2]$, where their ratio $n/m$ is better constrained and can be determined by the concavity of the river profile $n/m \\in [0.4, 0.6]$.\n",
    "\n",
    "$I=k_f \\cdot A^m \\cdot S^n$\n"
   ]
  },
  {
   "cell_type": "markdown",
   "id": "d1b93f48",
   "metadata": {},
   "source": [
    "The hillslope process describes the transport of material from hillslopes to lowland and is determined by **a constant transport coefficient or diffusivity** $\\mathbf{k_d}$  (in $m^2/yr$) and by the curvature of the terrain $\\nabla^2h$ (in $m/m^2$) as:\n",
    "\n",
    "$H = k_d \\cdot \\nabla^2 \\cdot h$\n"
   ]
  },
  {
   "cell_type": "markdown",
   "id": "f8a397ff",
   "metadata": {},
   "source": [
    "These simple processes are the basic set of mechanisms governing the evolution of a topographic relief, i.e. as a balance of uplift and erosion, which allow us to untangle the links between tectonics, climate, and biodiversity as explained and shown in this schematic by [Antonelli et al. 2018](https://www.nature.com/articles/s41561-018-0236-z):\n",
    "\n",
    "<img src=\"./Antonelli_etal_2018_Fig4.png\" alt=\"Geo-Clim-Bio\" width=\"1000\"/>\n"
   ]
  },
  {
   "cell_type": "code",
   "execution_count": null,
   "id": "6eb5c99e",
   "metadata": {},
   "outputs": [],
   "source": []
  }
 ],
 "metadata": {
  "kernelspec": {
   "display_name": "CRC1211-TW2022",
   "language": "python",
   "name": "crc1211-tw2022"
  },
  "language_info": {
   "codemirror_mode": {
    "name": "ipython",
    "version": 3
   },
   "file_extension": ".py",
   "mimetype": "text/x-python",
   "name": "python",
   "nbconvert_exporter": "python",
   "pygments_lexer": "ipython3",
   "version": "3.10.6"
  }
 },
 "nbformat": 4,
 "nbformat_minor": 5
}
